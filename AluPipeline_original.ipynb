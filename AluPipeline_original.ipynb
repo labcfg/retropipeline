{
 "cells": [
  {
   "cell_type": "markdown",
   "metadata": {},
   "source": [
    "### SHORT DESCRIPTION\n",
    "\n",
    "* NCORE - numbers of core. For parallel pipeline NCORE > 1 (max NCORE = 8)\n",
    "* DELETE_NOW - If True, bad reads (by filters) will be deleted after each filter\n",
    "* IS_SHORT_FLANK - If True, ignore additional PRIMER and AD1 in R1\n",
    "* CHAOS - If True, you're not sure that file(R1) is contained R1 and file(R2) is contained R2\n",
    "* MIN_READ - Create own FIX and dbRIP file for each library (if NUM_READS >= MIN_READ)\n",
    "* INSWINDOW_FIX - Delete reads if CURRENT_POS ~ [RESTRICT_SITE : IS + INSWINDOWS_FIX] (for INS_STRAND = +)\n",
    "* SHIFT_RESTRICT_SITE - Mark reads if RESTRICT_SITE was found in [RESTRICT_SITE :  IS + SHIFT] (for INS_STRAND = +)\n",
    "* SHIFT_MISS_PRIMER - Mark reads if PRIMER was found in [IS :  IS + SHIFT] (for INS_STRAND = +)\n",
    "* SHIFT_MISS_RE -  Mark reads if PRIMER was found in [IS :  IS + SHIFT] (for INS_STRAND = +)\n",
    "* RE_HAMMING - Delete reads RE_HAMMING_CURRENT >= RE_HAMMING\n",
    "* FLANK_ERRORS - Delete reads FLANK_ERRORS_CURRENT >= FLANK_ERRORS\n",
    "* REPEAT - Delete reads REPEAT_CURRENT >= REPEAT\n",
    "* MISS_PRIMER - Delete reads MISS_PRIMER_CURRENT <= MISS_PRIMER\n",
    "* MISS_RE - Delelte reads MISS_RE_CURRENT <= MISS_RE\n",
    "* TEMPLATE_SWITCH_MD - Delete reads MDMATCH >= TEMPLATE_SWITCH_MD\n",
    "* WINDOW - Window for megaclustering\n",
    "* MAIN_FLAN_LEN - For template switch. TARGET_READS = PRIMER + RE + MAIN_FLAN_LEN(of R1)"
   ]
  },
  {
   "cell_type": "code",
   "execution_count": 1,
   "metadata": {},
   "outputs": [
    {
     "ename": "SyntaxError",
     "evalue": "invalid syntax (<ipython-input-1-10d1fad7b2b0>, line 19)",
     "output_type": "error",
     "traceback": [
      "\u001b[0;36m  File \u001b[0;32m\"<ipython-input-1-10d1fad7b2b0>\"\u001b[0;36m, line \u001b[0;32m19\u001b[0m\n\u001b[0;31m    BLEN =\u001b[0m\n\u001b[0m           ^\u001b[0m\n\u001b[0;31mSyntaxError\u001b[0m\u001b[0;31m:\u001b[0m invalid syntax\n"
     ]
    }
   ],
   "source": [
    "#LIBRARY\n",
    "import imp\n",
    "import os\n",
    "\n",
    "#PATHWAYS\n",
    "INPUTDIR = ''\n",
    "OUTPUTDIR = ''\n",
    "MAPPER = 'bwa' #bwa or bowtie\n",
    "\n",
    "#SYS PARAMETRS\n",
    "NCORE = 1\n",
    "\n",
    "#PREPROCESSING\n",
    "PRIMER = ''\n",
    "SHIFT = 5\n",
    "MIST = 1\n",
    "AD1 = ''\n",
    "AD2 = ''\n",
    "BLEN = \n",
    "RE = ''\n",
    "RESTRICT_SITE = ''\n",
    "R2_START = ''\n",
    "IS_SHORT_FLANK = False\n",
    "CHAOS = False\n",
    "TRIMM_N = 0\n",
    "SKIP_SHORT_READS = 200\n",
    "MID_MIST_SHORT_READS = (1, 2) # (r1 ,r2)\n",
    "END_MIST_SHORT_READS = (5, 5) # (r1 ,r2)\n",
    "PLACE_OF_SEARCH_TAIL = (None, None) # (r1 ,r2)\n",
    "MIN_SEQ_LEN_AFTER_TRIMM = (0, 0) # (r1 ,r2)\n",
    "  \n",
    "#FILTERS\n",
    "FIX_WINDOW = 0\n",
    "MIN_READ = 1\n",
    "INSWINDOW_FIX = 40\n",
    "SHIFT_RESTRICT_SITE = 3 \n",
    "SHIFT_MISS_PRIMER = 12\n",
    "SHIFT_MISS_RE = 8\n",
    "\n",
    "#THRESHOLDS\n",
    "RE_HAMMING = 2\n",
    "FLANK_ERRORS = 5\n",
    "REPEAT = 0.8\n",
    "MISS_PRIMER = 4\n",
    "MISS_RE = 2\n",
    "TEMPLATE_SWITCH_MD = 30\n",
    "\n",
    "#METACLUSTERING\n",
    "WINDOW = 100\n",
    "MAIN_FLANK_LEN = 11"
   ]
  },
  {
   "cell_type": "markdown",
   "metadata": {},
   "source": [
    "### <font color='blue'>1st round</font> "
   ]
  },
  {
   "cell_type": "markdown",
   "metadata": {},
   "source": [
    "#### 1. Raw FASTQ files preprocessing"
   ]
  },
  {
   "cell_type": "code",
   "execution_count": null,
   "metadata": {
    "collapsed": true
   },
   "outputs": [],
   "source": [
    "import imp\n",
    "import trimmALU\n",
    "imp.reload(trimmALU)\n",
    "\n",
    "trimmALU.main(inputdir = INPUTDIR,\n",
    "              outputdir = os.path.abspath(OUTPUTDIR) + '/preprocessing/',\n",
    "              primer = PRIMER,\n",
    "              ad1 = AD1,\n",
    "              ad2 = AD2,\n",
    "              blen = BLEN,\n",
    "              shift = SHIFT,\n",
    "              mist = MIST,\n",
    "              restrict_site = RESTRICT_SITE,\n",
    "              re_part = RE,\n",
    "              r2_start = R2_START,\n",
    "              is_short_flank = IS_SHORT_FLANK,\n",
    "              chaos = CHAOS,\n",
    "              n_core = NCORE,\n",
    "              trimm_n = TRIMM_N,\n",
    "              skip_short_reads = SKIP_SHORT_READS,\n",
    "              mid_mist_short_reads = MID_MIST_SHORT_READS,\n",
    "              end_mist_short_reads = END_MIST_SHORT_READS,\n",
    "              place_of_search_tail=PLACE_OF_SEARCH_TAIL,\n",
    "              min_seq_len_after_trimm=MIN_SEQ_LEN_AFTER_TRIMM)"
   ]
  },
  {
   "cell_type": "markdown",
   "metadata": {},
   "source": [
    "#### 2. Map FASTQ by BWA"
   ]
  },
  {
   "cell_type": "code",
   "execution_count": null,
   "metadata": {
    "collapsed": true
   },
   "outputs": [],
   "source": [
    "import bwamem\n",
    "imp.reload(bwamem)\n",
    "\n",
    "if MAPPER == 'bowtie':\n",
    "    mapper_execline = 'bowtie2 -p 4'\n",
    "    refway = '/raid/retroelement/test/reference_genome/hg38_indexed_bowtie2_rebuild/hg38'\n",
    "else:\n",
    "    if MAPPER != 'bwa':\n",
    "        print('BWA')\n",
    "    mapper_execline = './bwa-0.7.13/bwa mem -t 4'\n",
    "    refway = '/raid/retroelement/test/reference_genome/hg38_indexed_bwa/hg38'\n",
    "\n",
    "bwamem.main(inputdir = os.path.abspath(OUTPUTDIR) + '/preprocessing/',\n",
    "            outputdir = os.path.abspath(OUTPUTDIR) + '/mapping/',\n",
    "            refway = refway,\n",
    "            bwaline = mapper_execline)"
   ]
  },
  {
   "cell_type": "markdown",
   "metadata": {},
   "source": [
    "#### 3. Filter SAM files"
   ]
  },
  {
   "cell_type": "code",
   "execution_count": null,
   "metadata": {
    "collapsed": true
   },
   "outputs": [],
   "source": [
    "import samfilter_pysam\n",
    "imp.reload(samfilter_pysam)\n",
    "\n",
    "samfilter.main(inputdir = os.path.abspath(OUTPUTDIR) + '/mapping/',\n",
    "               outputdir = os.path.abspath(OUTPUTDIR) + '/table/',\n",
    "               n_core = NCORE)"
   ]
  },
  {
   "cell_type": "markdown",
   "metadata": {},
   "source": [
    "#### 4. Collapse reads by (chr, strand, pos)"
   ]
  },
  {
   "cell_type": "code",
   "execution_count": null,
   "metadata": {
    "collapsed": true
   },
   "outputs": [],
   "source": [
    "import collapser\n",
    "imp.reload(collapser)\n",
    "\n",
    "collapser.main(inputdir = os.path.abspath(OUTPUTDIR) + '/table/',\n",
    "               outputdir = os.path.abspath(OUTPUTDIR) + '/collapse_table/',\n",
    "               target_re = RE,\n",
    "               n_core = 1)"
   ]
  },
  {
   "cell_type": "markdown",
   "metadata": {},
   "source": [
    "#### 5. Create own fix and polymorph ALUBASE"
   ]
  },
  {
   "cell_type": "code",
   "execution_count": null,
   "metadata": {
    "collapsed": true
   },
   "outputs": [],
   "source": [
    "import exactmatch_fpALU\n",
    "imp.reload(exactmatch_fpALU)\n",
    "\n",
    "exactmatch_fpALU.main(inputdir = os.path.abspath(OUTPUTDIR) + '/collapse_table/',\n",
    "                      outputdir = os.path.abspath(OUTPUTDIR) + '/ematch_table/',\n",
    "                      replibrary = 'data/FixAndPolymorphALU2' + RESTRICT_SITE + '_hg38_autosomeXY.txt.bz2',\n",
    "                      min_read = MIN_READ,\n",
    "                      n_core = NCORE,\n",
    "                      window = FIX_WINDOW)"
   ]
  },
  {
   "cell_type": "markdown",
   "metadata": {},
   "source": [
    "#### 6. Count NUM_READS, NUM_BC, TLEN for each fix and polymorph ALUBASE"
   ]
  },
  {
   "cell_type": "code",
   "execution_count": null,
   "metadata": {
    "collapsed": true
   },
   "outputs": [],
   "source": [
    "import ematch_fixbc\n",
    "imp.reload(ematch_fixbc)\n",
    "\n",
    "ematch_fixbc.main(inputdir = os.path.abspath(OUTPUTDIR) + '/collapse_table/',\n",
    "                  outputdir = os.path.abspath(OUTPUTDIR) + '/ematch_fixbc/',\n",
    "                  replibrary = 'data/FixAndPolymorphALU2' + RESTRICT_SITE + '_hg38_autosomeXY.txt.bz2',\n",
    "                  min_read = MIN_READ,\n",
    "                  n_core = NCORE)"
   ]
  },
  {
   "cell_type": "markdown",
   "metadata": {},
   "source": [
    "#### 7. Delete fix and polymorph ALU from reads"
   ]
  },
  {
   "cell_type": "code",
   "execution_count": null,
   "metadata": {
    "collapsed": true
   },
   "outputs": [],
   "source": [
    "import intersection_fpALU\n",
    "imp.reload(intersection_fpALU)\n",
    "\n",
    "intersection_fpALU.main(inputdir = os.path.abspath(OUTPUTDIR) + '/collapse_table/',\n",
    "                        outputdir = os.path.abspath(OUTPUTDIR) + '/notfpALU_table/',\n",
    "                        replib_inputdir = os.path.abspath(OUTPUTDIR) + '/ematch_table/',\n",
    "                        inswindow = INSWINDOW_FIX,\n",
    "                        n_core = NCORE)"
   ]
  },
  {
   "cell_type": "markdown",
   "metadata": {},
   "source": [
    "###  <font color='blue'>Filters</font> \n"
   ]
  },
  {
   "cell_type": "markdown",
   "metadata": {},
   "source": [
    "#### 15. Find restrict site around intergration point"
   ]
  },
  {
   "cell_type": "code",
   "execution_count": null,
   "metadata": {
    "collapsed": true
   },
   "outputs": [],
   "source": [
    "import misseq\n",
    "imp.reload(misseq)\n",
    "\n",
    "misseq.main(inputdir = os.path.abspath(OUTPUTDIR) + '/notfpALU_table/',\n",
    "            outputdir = os.path.abspath(OUTPUTDIR) + '/filter_rsite/',\n",
    "            refway = '/raid/retroelement/test/reference_genome/hg38_indexed_bowtie/hg38.fa',\n",
    "            mseq = RESTRICT_SITE,\n",
    "            mname = RESTRICT_SITE,\n",
    "            shift = SHIFT_RESTRICT_SITE,\n",
    "            n_core = NCORE)"
   ]
  },
  {
   "cell_type": "markdown",
   "metadata": {},
   "source": [
    "#### 16. Find primer in flank"
   ]
  },
  {
   "cell_type": "code",
   "execution_count": null,
   "metadata": {
    "collapsed": true
   },
   "outputs": [],
   "source": [
    "import misseq\n",
    "imp.reload(misseq)\n",
    "\n",
    "misseq.main(inputdir = os.path.abspath(OUTPUTDIR) + '/filter_rsite/',\n",
    "            outputdir = os.path.abspath(OUTPUTDIR) + '/filter_primer/',\n",
    "            refway = '/raid/retroelement/test/reference_genome/hg38_indexed_bowtie/hg38.fa',\n",
    "            mseq = PRIMER,\n",
    "            mname = 'MISS_P_HAMMING',\n",
    "            shift = SHIFT_MISS_PRIMER,\n",
    "            n_core = NCORE)"
   ]
  },
  {
   "cell_type": "markdown",
   "metadata": {},
   "source": [
    "#### 17. Find part of RE in flank"
   ]
  },
  {
   "cell_type": "code",
   "execution_count": null,
   "metadata": {
    "collapsed": true
   },
   "outputs": [],
   "source": [
    "import misseq\n",
    "imp.reload(misseq)\n",
    "\n",
    "misseq.main(inputdir = os.path.abspath(OUTPUTDIR) + '/filter_primer/',\n",
    "            outputdir = os.path.abspath(OUTPUTDIR) + '/filter_re/',\n",
    "            refway = '/raid/retroelement/test/reference_genome/hg38_indexed_bowtie/hg38.fa',\n",
    "            mseq = None,\n",
    "            mname = 'MISS_RE_HAMMING',\n",
    "            shift = SHIFT_MISS_RE,\n",
    "            n_core = NCORE)"
   ]
  },
  {
   "cell_type": "markdown",
   "metadata": {},
   "source": [
    "#### 18. Intersect with repeats"
   ]
  },
  {
   "cell_type": "code",
   "execution_count": null,
   "metadata": {
    "collapsed": true
   },
   "outputs": [],
   "source": [
    "import intersection_replib\n",
    "imp.reload(intersection_replib)\n",
    "\n",
    "intersection_replib.main(inputdir = os.path.abspath(OUTPUTDIR) + '/filter_re/',\n",
    "                         outputdir = os.path.abspath(OUTPUTDIR) + '/filter_replib/',\n",
    "                         repeatway = '/raid/retroelement/test/reference_genome/repeats_hg38.tabular',\n",
    "                         n_core = NCORE)"
   ]
  },
  {
   "cell_type": "markdown",
   "metadata": {},
   "source": [
    "#### 19. Apply filters"
   ]
  },
  {
   "cell_type": "code",
   "execution_count": null,
   "metadata": {
    "collapsed": true
   },
   "outputs": [],
   "source": [
    "import trash_deleting\n",
    "imp.reload(trash_deleting)\n",
    "\n",
    "trash_deleting.main(inputdir = os.path.abspath(OUTPUTDIR) + '/filter_replib/',\n",
    "                    outputdir = os.path.abspath(OUTPUTDIR) + '/pre_metatable/',\n",
    "                    re_hamming = RE_HAMMING,\n",
    "                    flank_errors = FLANK_ERRORS,\n",
    "                    rsite_name = RESTRICT_SITE,\n",
    "                    repeat = REPEAT,\n",
    "                    m_primer = MISS_PRIMER,\n",
    "                    primer_name = 'P',\n",
    "                    m_re = MISS_RE,\n",
    "                    re_name = 'RE')"
   ]
  },
  {
   "cell_type": "markdown",
   "metadata": {},
   "source": [
    "###  <font color='blue'>Metatable</font> \n"
   ]
  },
  {
   "cell_type": "markdown",
   "metadata": {},
   "source": [
    "#### 20. Metaclustering"
   ]
  },
  {
   "cell_type": "code",
   "execution_count": null,
   "metadata": {
    "collapsed": true
   },
   "outputs": [],
   "source": [
    "import metacluster\n",
    "imp.reload(metacluster)\n",
    "\n",
    "metacluster.main(inputdir = os.path.abspath(OUTPUTDIR) + '/pre_metatable/',\n",
    "                 outputdir = os.path.abspath(OUTPUTDIR) + '/metatable/',\n",
    "                 pcdir = os.path.abspath(OUTPUTDIR) + '/new_collapse_table/',\n",
    "                 target_re = RE,\n",
    "                 window = WINDOW,\n",
    "                 blen = BLEN)"
   ]
  },
  {
   "cell_type": "markdown",
   "metadata": {},
   "source": [
    "#### 22. Template switch"
   ]
  },
  {
   "cell_type": "code",
   "execution_count": null,
   "metadata": {
    "collapsed": true
   },
   "outputs": [],
   "source": [
    "import template_switch\n",
    "imp.reload(template_switch)\n",
    "\n",
    "template_switch.main(inputdir = os.path.abspath(OUTPUTDIR) + '/metatable/',\n",
    "                     outputdir = os.path.abspath(OUTPUTDIR) + '/result/',\n",
    "                     primer = PRIMER,\n",
    "                     main_flank_len = MAIN_FLANK_LEN,\n",
    "                     template_switch_md = TEMPLATE_SWITCH_MD,\n",
    "                     refway = '/raid/retroelement/test/reference_genome/hg38_indexed_bwa/hg38',\n",
    "                     bwaway = './bwa-0.7.13/bwa')"
   ]
  },
  {
   "cell_type": "markdown",
   "metadata": {},
   "source": [
    "# Result\n",
    "\n",
    "### you can pull output table from 'result' folder in outputdir. Needed file is called 'metatable_ts.txt'"
   ]
  }
 ],
 "metadata": {
  "kernelspec": {
   "display_name": "Python 3",
   "language": "python",
   "name": "python3"
  },
  "language_info": {
   "codemirror_mode": {
    "name": "ipython",
    "version": 3
   },
   "file_extension": ".py",
   "mimetype": "text/x-python",
   "name": "python",
   "nbconvert_exporter": "python",
   "pygments_lexer": "ipython3",
   "version": "3.6.2"
  }
 },
 "nbformat": 4,
 "nbformat_minor": 1
}
